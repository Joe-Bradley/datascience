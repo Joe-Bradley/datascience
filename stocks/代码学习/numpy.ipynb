{
 "cells": [
  {
   "cell_type": "code",
   "execution_count": 1,
   "metadata": {},
   "outputs": [
    {
     "name": "stdout",
     "output_type": "stream",
     "text": [
      "1.19.2\n"
     ]
    }
   ],
   "source": [
    "import numpy as np\n",
    "\n",
    "print(np.__version__) # 1.15.1\n",
    "\n",
    "#用简洁的表达式替代for-in循环\n",
    "#生成大规模数组的效率高，快一个数量级\n",
    "\n",
    "#print(a.ndim) # 3\n",
    "#print(a.shape) # (2, 3, 6)\n",
    "#print(a.dtype) # float64"
   ]
  },
  {
   "cell_type": "code",
   "execution_count": 3,
   "metadata": {},
   "outputs": [
    {
     "name": "stdout",
     "output_type": "stream",
     "text": [
      "[1. 2. 3. 4. 5. 6.]\n"
     ]
    }
   ],
   "source": [
    "#一维数据\n",
    "array_1x6 = np.array([1.0, 2.0, 3.0, 4.0, 5.0, 6.0], dtype=np.float64)\n",
    "print(array_1x6)"
   ]
  },
  {
   "cell_type": "code",
   "execution_count": 7,
   "metadata": {},
   "outputs": [
    {
     "name": "stdout",
     "output_type": "stream",
     "text": [
      "[[1.  2.  3.  4.  5.  6. ]\n",
      " [1.1 2.1 3.1 4.1 5.1 6.1]]\n"
     ]
    }
   ],
   "source": [
    "#二维数据\n",
    "#array_2x6 = np.array([[1.0, 2.0, 3.0, 4.0, 5.0, 6.0], [1.1, 2.1, 3.1, 4.1, 5.1, 6.1]])\n",
    "a = [1.0, 2.0, 3.0, 4.0, 5.0, 6.0]\n",
    "b = [1.1, 2.1, 3.1, 4.1, 5.1, 6.1]\n",
    "array_2x6 = np.array([a,b])\n",
    "print(array_2x6) "
   ]
  },
  {
   "cell_type": "code",
   "execution_count": 10,
   "metadata": {},
   "outputs": [
    {
     "name": "stdout",
     "output_type": "stream",
     "text": [
      "[[[ 1.   2.   3.   4.   5.   6. ]\n",
      "  [ 1.1  2.1  3.1  4.1  5.1  6.1]\n",
      "  [ 1.2  2.2  3.2  4.2  5.2  6.2]]\n",
      "\n",
      " [[ 7.   8.   9.  10.  11.  12. ]\n",
      "  [ 7.1  8.1  9.1 10.1 11.1 12.1]\n",
      "  [ 7.2  8.2  9.2 10.2 11.2 12.2]]]\n"
     ]
    }
   ],
   "source": [
    "#三维数据\n",
    "#array_2x3x6 = np.array([[[1.0,2.0,3.0,4.0,5.0,6.0],[1.1,2.1,3.1,4.1,5.1,6.1],[1.2,2.2,3.2,4.2,5.2,6.2]],\n",
    "#                        [[7.0,8.0,9.0,10.0,11.0,12.0],[7.1,8.1,9.1,10.1,11.1,12.1],[7.2,8.2,9.2,10.2,11.2,12.2]]])\n",
    "a1 = [1.0,2.0,3.0,4.0,5.0,6.0]\n",
    "a2 = [1.1,2.1,3.1,4.1,5.1,6.1]\n",
    "a3 = [1.2,2.2,3.2,4.2,5.2,6.2]\n",
    "a = [a1,a2,a3]\n",
    "b1 = [7.0,8.0,9.0,10.0,11.0,12.0]\n",
    "b2 = [7.1,8.1,9.1,10.1,11.1,12.1]\n",
    "b3 = [7.2,8.2,9.2,10.2,11.2,12.2]\n",
    "b = [b1,b2,b3]\n",
    "array_2x3x6 = np.array([a,b])\n",
    "print(array_2x3x6)"
   ]
  },
  {
   "cell_type": "code",
   "execution_count": 11,
   "metadata": {},
   "outputs": [
    {
     "name": "stdout",
     "output_type": "stream",
     "text": [
      "[[6 6 6]\n",
      " [7 7 7]\n",
      " [8 8 8]\n",
      " [9 9 9]]\n"
     ]
    }
   ],
   "source": [
    "# np.array匹配相加\n",
    "array_4x3_a = np.array([[1,1,1],[2,2,2],[3,3,3],[4,4,4]]) \n",
    "array_4x3_b = np.array([[5,5,5],[5,5,5],[5,5,5],[5,5,5]])\n",
    "print(array_4x3_a+array_4x3_b)"
   ]
  },
  {
   "cell_type": "code",
   "execution_count": 12,
   "metadata": {},
   "outputs": [
    {
     "name": "stdout",
     "output_type": "stream",
     "text": [
      "[[6 6 6]\n",
      " [7 7 7]\n",
      " [8 8 8]\n",
      " [9 9 9]]\n"
     ]
    }
   ],
   "source": [
    "# np.array标量相加\n",
    "array_4x3_a = np.array([[1,1,1],[2,2,2],[3,3,3],[4,4,4]]) \n",
    "print(array_4x3_a+5)"
   ]
  },
  {
   "cell_type": "code",
   "execution_count": 13,
   "metadata": {},
   "outputs": [
    {
     "name": "stdout",
     "output_type": "stream",
     "text": [
      "[[2 3 4]\n",
      " [3 4 5]\n",
      " [4 5 6]\n",
      " [5 6 7]]\n"
     ]
    }
   ],
   "source": [
    "# np.array矢量相加 dim = 1\n",
    "array_4x3 = np.array([[1,1,1],[2,2,2],[3,3,3],[4,4,4]])\n",
    "array_1x3 = np.array([1,2,3])\n",
    "print(array_4x3 + array_1x3)"
   ]
  },
  {
   "cell_type": "code",
   "execution_count": 14,
   "metadata": {},
   "outputs": [
    {
     "name": "stdout",
     "output_type": "stream",
     "text": [
      "[[2 2 2]\n",
      " [3 3 3]\n",
      " [4 4 4]\n",
      " [5 5 5]]\n"
     ]
    }
   ],
   "source": [
    "# np.array矢量相加 dim = 2\n",
    "array_4x3 = np.array([[1,1,1],[2,2,2],[3,3,3],[4,4,4]])\n",
    "array_4x1 = np.array([[1],[1],[1],[1]])\n",
    "print(array_4x3 + array_4x1)"
   ]
  },
  {
   "cell_type": "code",
   "execution_count": 15,
   "metadata": {},
   "outputs": [
    {
     "name": "stdout",
     "output_type": "stream",
     "text": [
      "[[1. 1. 1. 1.]\n",
      " [1. 1. 1. 1.]]\n"
     ]
    }
   ],
   "source": [
    "# 1阵\n",
    "array_one = np.ones(shape=(2, 4))\n",
    "print(array_one)"
   ]
  },
  {
   "cell_type": "code",
   "execution_count": 16,
   "metadata": {},
   "outputs": [
    {
     "name": "stdout",
     "output_type": "stream",
     "text": [
      "[[10 10 10 10]\n",
      " [10 10 10 10]]\n"
     ]
    }
   ],
   "source": [
    "#填充阵\n",
    "array_full = np.full(shape=(2, 4), fill_value=10)\n",
    "print(array_full)"
   ]
  },
  {
   "cell_type": "code",
   "execution_count": 20,
   "metadata": {},
   "outputs": [
    {
     "name": "stdout",
     "output_type": "stream",
     "text": [
      "[[1. 0. 0. 0. 0. 0.]\n",
      " [0. 1. 0. 0. 0. 0.]\n",
      " [0. 0. 1. 0. 0. 0.]\n",
      " [0. 0. 0. 1. 0. 0.]]\n"
     ]
    }
   ],
   "source": [
    "# 单位矩阵\n",
    "array_eye = np.eye(4, M=6)\n",
    "print(array_eye)"
   ]
  },
  {
   "cell_type": "code",
   "execution_count": 21,
   "metadata": {},
   "outputs": [
    {
     "name": "stdout",
     "output_type": "stream",
     "text": [
      "[0.  0.5 1.  1.5 2.  2.5 3.  3.5 4.  4.5]\n"
     ]
    }
   ],
   "source": [
    "# np.linspace(start, stop, num=50, endpoint=True, retstep=False, dtype=None) 等差数列\n",
    "# start指定开始值;stop指定终值;num指定元素个数;endpoint指定等差数列是否包含终值\n",
    "array_linspace = np.linspace(start=0, stop=5, num=10, endpoint=False)\n",
    "print(array_linspace)"
   ]
  },
  {
   "cell_type": "code",
   "execution_count": 25,
   "metadata": {},
   "outputs": [
    {
     "name": "stdout",
     "output_type": "stream",
     "text": [
      "[3 3 2 2 3 3 3 3 3 2]\n"
     ]
    }
   ],
   "source": [
    "# 设置相同的seed 每次生成的随机数相同 便于调试 ",
    "\n",
    "np.random.seed(1)\n",
    "# randint(low, high=None, size=None, dtype='l') # 指定上下限范围的随机数组\n",
    "array_randint = np.random.randint(2, 4, size=10)\n",
    "print(array_randint)"
   ]
  },
  {
   "cell_type": "code",
   "execution_count": 31,
   "metadata": {},
   "outputs": [
    {
     "name": "stdout",
     "output_type": "stream",
     "text": [
      "[7 6 7 3 3 4 5 7 9 6 6 7 5 4 4 3 6 3 4 6 4 8 4 5 4 7 4 5 5 7 2 6 7 2 5 4 7\n",
      " 5 6 5 6 4 1 5 4 5 7 5 4 4 7 7 7 7 4 3 4 4 4 5 5 6 4 6 4 5 4 3 4 6 5 5 4 5\n",
      " 9 6 5 8 7 5 2 3 3 5 4 8 3 8 6 6 6 6 5 2 4 5 6 5 5 3]\n"
     ]
    }
   ],
   "source": [
    "# 二项分布 \n",
    "# binomial(n, p, size=None), 符合二项分布的随机数组, X-b(n,p)\n",
    "array_binomial = np.random.binomial(10, 0.5, size=100)\n",
    "print(array_binomial)"
   ]
  },
  {
   "cell_type": "code",
   "execution_count": 32,
   "metadata": {},
   "outputs": [
    {
     "name": "stdout",
     "output_type": "stream",
     "text": [
      "[[-0.66048031 -1.14562293  1.62918731  0.1527367 ]\n",
      " [-1.05828522 -0.10194848  0.04771979 -1.97987568]\n",
      " [ 1.11861489  0.71985978  1.37751003  0.08479693]]\n"
     ]
    }
   ],
   "source": [
    "#标准正态分布\n",
    "array_randn = np.random.randn(3, 4)\n",
    "print(array_randn)"
   ]
  },
  {
   "cell_type": "code",
   "execution_count": 33,
   "metadata": {},
   "outputs": [
    {
     "name": "stdout",
     "output_type": "stream",
     "text": [
      "[[0.01260377 0.67246984 0.68680823 0.44924675]\n",
      " [0.91478869 0.64436108 0.00523984 0.48442845]\n",
      " [0.85931781 0.83039957 0.6491542  0.67369842]]\n"
     ]
    }
   ],
   "source": [
    "#均匀分布\n",
    "array_rand = np.random.rand(3, 4)\n",
    "print(array_rand)"
   ]
  },
  {
   "cell_type": "code",
   "execution_count": 34,
   "metadata": {},
   "outputs": [
    {
     "name": "stdout",
     "output_type": "stream",
     "text": [
      "[[[ 8.37752106 10.56385598]\n",
      "  [11.89579139 10.66821393]\n",
      "  [10.9434644   9.60872319]]]\n"
     ]
    }
   ],
   "source": [
    "#正态分布\n",
    "array_normal = np.random.normal(loc=10.0, scale=1.0, size=(1,3,2))\n",
    "print(array_normal)"
   ]
  },
  {
   "cell_type": "code",
   "execution_count": 35,
   "metadata": {},
   "outputs": [
    {
     "name": "stdout",
     "output_type": "stream",
     "text": [
      "[[ 1  0  1]\n",
      " [-1  1  1]\n",
      " [ 1 -1  1]\n",
      " [ 1  1 -1]]\n"
     ]
    }
   ],
   "source": [
    "#计算sign\n",
    "array_4x3_234 = np.array([[1, 0, 1], [-2, 2, 2], [3, -3, 3], [4, 4, -4]])\n",
    "array_sign = np.sign(array_4x3_234)\n",
    "print(array_sign)"
   ]
  },
  {
   "cell_type": "code",
   "execution_count": 36,
   "metadata": {},
   "outputs": [
    {
     "name": "stdout",
     "output_type": "stream",
     "text": [
      "[[False False False]\n",
      " [False  True False]\n",
      " [False  True False]\n",
      " [False False False]]\n"
     ]
    }
   ],
   "source": [
    "#计算非空\n",
    "array_4x3_235 = np.array([[1, 1, 1], [-2, np.nan, 2], [3, np.nan, 3], [4, 4, -4]])\n",
    "array_isnan = np.isnan(array_4x3_235)\n",
    "print(array_isnan)"
   ]
  },
  {
   "cell_type": "code",
   "execution_count": 37,
   "metadata": {},
   "outputs": [
    {
     "name": "stdout",
     "output_type": "stream",
     "text": [
      "[[0 0 0]\n",
      " [0 5 0]\n",
      " [0 5 0]\n",
      " [0 0 0]]\n"
     ]
    }
   ],
   "source": [
    "# np.where(cond,x,y)：满足条件（cond）输出x，不满足输出y\n",
    "array_4x3_236 = np.array([[1, 1, 1], [-2, 8, 2], [3, 9, 3], [4, 4, -4]])\n",
    "array_where = np.where(array_4x3_236 > 5, 5, 0)\n",
    "print(array_where)"
   ]
  },
  {
   "cell_type": "code",
   "execution_count": 38,
   "metadata": {},
   "outputs": [],
   "source": [
    "#np.array --> matrix\n",
    "matrix_a = np.mat('1 3 5; 2 4 6')\n",
    "matrix_b = np.mat([[1, 3, 5], [2, 4, 6]])"
   ]
  },
  {
   "cell_type": "code",
   "execution_count": 42,
   "metadata": {},
   "outputs": [
    {
     "data": {
      "text/plain": [
       "matrix([[ 7, 10],\n",
       "        [15, 22]])"
      ]
     },
     "execution_count": 42,
     "metadata": {},
     "output_type": "execute_result"
    }
   ],
   "source": [
    "# dot\n",
    "A = np.mat([[1, 2], [3, 4]])\n",
    "B = np.mat([[1, 2], [3, 4]])\n",
    "np.dot(A, B)"
   ]
  },
  {
   "cell_type": "code",
   "execution_count": 44,
   "metadata": {},
   "outputs": [
    {
     "data": {
      "text/plain": [
       "matrix([[-2. ,  1. ],\n",
       "        [ 1.5, -0.5]])"
      ]
     },
     "execution_count": 44,
     "metadata": {},
     "output_type": "execute_result"
    }
   ],
   "source": [
    "# reverse\n",
    "A = np.mat([[1, 2], [3, 4]])\n",
    "np.linalg.inv(A)"
   ]
  },
  {
   "cell_type": "code",
   "execution_count": 49,
   "metadata": {},
   "outputs": [
    {
     "data": {
      "text/plain": [
       "matrix([[ 5.],\n",
       "        [ 3.],\n",
       "        [-2.]])"
      ]
     },
     "execution_count": 49,
     "metadata": {},
     "output_type": "execute_result"
    }
   ],
   "source": [
    "# 解方程\n",
    "A = np.mat([[1, 1, 1], [0, 2, 5], [2, 5, -1]])\n",
    "B = np.mat([[6], [-4], [27]])\n",
    "#np.dot(np.linalg.inv(A), B) 一样的\n",
    "np.linalg.solve(A, B)"
   ]
  }
 ],
 "metadata": {
  "kernelspec": {
   "display_name": "Python 3",
   "language": "python",
   "name": "python3"
  },
  "language_info": {
   "codemirror_mode": {
    "name": "ipython",
    "version": 3
   },
   "file_extension": ".py",
   "mimetype": "text/x-python",
   "name": "python",
   "nbconvert_exporter": "python",
   "pygments_lexer": "ipython3",
   "version": "3.8.5"
  }
 },
 "nbformat": 4,
 "nbformat_minor": 4
}
